{
 "cells": [
  {
   "cell_type": "code",
   "execution_count": 2,
   "metadata": {},
   "outputs": [],
   "source": [
    "#imports\n",
    "import pandas as pd\n",
    "from datetime import date\n",
    "import docx as dx\n",
    "from docx.enum.text import WD_ALIGN_PARAGRAPH\n",
    "from docx2pdf import convert\n",
    "import os"
   ]
  },
  {
   "cell_type": "code",
   "execution_count": 12,
   "metadata": {},
   "outputs": [],
   "source": [
    "#connect to database containing previously applied jobs (or create db)\n",
    "engine = create_engine('sqlite:///applications.db') #make db file in cwd\n",
    "metadata = MetaData()\n",
    "\n",
    "applications = Table('applications', metadata,\n",
    "                Column('position', String(255)),\n",
    "                Column('company', String(255)),\n",
    "                Column('date', DateTime()))\n",
    "\n",
    "metadata.create_all(engine)"
   ]
  },
  {
   "cell_type": "code",
   "execution_count": null,
   "metadata": {},
   "outputs": [],
   "source": [
    "#see 5 most recent job applications\n",
    "q = 'SELECT * FROM applications ORDER BY date DESC LIMIT 5'\n",
    "pd.read_sql(q, engine)"
   ]
  },
  {
   "cell_type": "code",
   "execution_count": 3,
   "metadata": {},
   "outputs": [],
   "source": [
    "# insert coverletters\n",
    "default_cover_letter = '''\n",
    "\n",
    "YOUR LETTER HERE\n",
    "Use {d} for where the date goes, {p} for position youre applying for, and {c} for company name\n",
    "See example below\n",
    "\n",
    "'''\n",
    "\n",
    "example_cl = '''Harry J Potter\n",
    "The Cupboard under the Stairs\n",
    "4, Privet Drive\n",
    "Little Whinging\n",
    "Surry\n",
    "\n",
    "\n",
    "{d}\n",
    "Application for {p}\n",
    "\n",
    "Dear Hiring Manager,\n",
    "\n",
    "I’m an auror and I’d love to bring my courage and experience to your team. I am looking for work that continues to expand my magical ability, and I believe the {p} position at {c} will provide challenges that will help me grow as a dark wizard catcher and as a team player.\n",
    "\n",
    "I have previously defeated Lord Voldemort. Through this experience I learned the stamina and interpersonal communication required to find and destroy each of his seven horcruxes.\n",
    "\n",
    "I’m eager to speak more in depth with you about the position. Please send an owl to get in touch.\n",
    "\n",
    "Thank you for your time and consideration,\n",
    "\n",
    "Harry Potter'''\n",
    "\n",
    "\n",
    "cover_letters = [default_cover_letter, example_cl]"
   ]
  },
  {
   "cell_type": "code",
   "execution_count": 4,
   "metadata": {},
   "outputs": [
    {
     "name": "stdout",
     "output_type": "stream",
     "text": [
      "Position Name: Defense Against the Dark Arts Teacher\n",
      "Company Name: Hogwarts School of Witchcraft and Wizardry\n",
      "Which coverletter? 0: default 1: example  1\n"
     ]
    }
   ],
   "source": [
    "#find info to fill in the blanks d, p, and c\n",
    "today = date.today().strftime(\"%m/%d/%Y\") #find date\n",
    "\n",
    "position = input('Position Name: ') #position name\n",
    "company = input('Company Name: ') #company name\n",
    "cl_select = input('Which coverletter? 0: default 1: example  ') #which cover letter to use"
   ]
  },
  {
   "cell_type": "code",
   "execution_count": 5,
   "metadata": {},
   "outputs": [
    {
     "name": "stdout",
     "output_type": "stream",
     "text": [
      "Harry J Potter\n",
      "The Cupboard under the Stairs\n",
      "4, Privet Drive\n",
      "Little Whinging\n",
      "Surry\n",
      "\n",
      "\n",
      "07/01/2020\n",
      "Application for Defense Against the Dark Arts Teacher\n",
      "\n",
      "Dear Hiring Manager,\n",
      "\n",
      "I’m an auror and I’d love to bring my courage and experience to your team. I am looking for work that continues to expand my magical ability, and I believe the Defense Against the Dark Arts Teacher position at Hogwarts School of Witchcraft and Wizardry will provide challenges that will help me grow as a dark wizard catcher and as a team player.\n",
      "\n",
      "I have previously defeated Lord Voldemort. Through this experience I learned the stamina and interpersonal communication required to find and destroy each of his seven horcruxes.\n",
      "\n",
      "I’m eager to speak more in depth with you about the position. Please send an owl to get in touch.\n",
      "\n",
      "Thank you for your time and consideration,\n",
      "\n",
      "Harry Potter\n"
     ]
    }
   ],
   "source": [
    "#choose coverletter and fill in blanks\n",
    "complete = cover_letters[int(cl_select)].format(d = today, p = position, c = company)\n",
    "print(complete)"
   ]
  },
  {
   "cell_type": "code",
   "execution_count": 23,
   "metadata": {},
   "outputs": [
    {
     "data": {
      "application/vnd.jupyter.widget-view+json": {
       "model_id": "75d6e6e4faa84fbfa97c9fdfbbeff0fa",
       "version_major": 2,
       "version_minor": 0
      },
      "text/plain": [
       "HBox(children=(FloatProgress(value=0.0, max=1.0), HTML(value='')))"
      ]
     },
     "metadata": {},
     "output_type": "display_data"
    }
   ],
   "source": [
    "#split coverletter into pieces for word to format\n",
    "clsplit = complete.split('\\n') #split on breaks\n",
    "while '' in clsplit: #remove lines with empty strings\n",
    "    clsplit.remove('')\n",
    "clsplit.insert(7, '') #put an empty string back in to make the letter formating nice.\n",
    "\n",
    "#create word doc\n",
    "doc = dx.Document()\n",
    "name = doc.add_paragraph('') #bold and right align name\n",
    "name.add_run(clsplit.pop(0)).bold = True\n",
    "name.alignment = WD_ALIGN_PARAGRAPH.RIGHT\n",
    "for _ in range(4): #for the rest of the contact info right align\n",
    "    line = doc.add_paragraph(clsplit.pop(0))\n",
    "    line.alignment = WD_ALIGN_PARAGRAPH.RIGHT\n",
    "for _ in range(len(clsplit)): #rest of the doc left align\n",
    "    line = doc.add_paragraph(clsplit.pop(0))\n",
    "word_filename = company+'_coverletter.docx' \n",
    "doc.save(word_filename)\n",
    "\n",
    "pdf_filename = word_filename.replace('.docx','.pdf')\n",
    "convert(word_filename,pdf_filename) #convert word to pdf\n",
    "\n",
    "os.remove(word_filename) #remove word file\n",
    "\n",
    "#create new entry in database table\n",
    "new = insert(applications).values(position = position, company = company,\n",
    "                                  date = date.today())\n",
    "engine.execute(new)"
   ]
  },
  {
   "cell_type": "code",
   "execution_count": null,
   "metadata": {},
   "outputs": [],
   "source": [
    "q = 'SELECT * FROM applications' #see all job apps saved\n",
    "pd.read_sql(q, engine) #wow so productive!"
   ]
  },
  {
   "cell_type": "code",
   "execution_count": null,
   "metadata": {},
   "outputs": [],
   "source": []
  }
 ],
 "metadata": {
  "kernelspec": {
   "display_name": "Python 3",
   "language": "python",
   "name": "python3"
  },
  "language_info": {
   "codemirror_mode": {
    "name": "ipython",
    "version": 3
   },
   "file_extension": ".py",
   "mimetype": "text/x-python",
   "name": "python",
   "nbconvert_exporter": "python",
   "pygments_lexer": "ipython3",
   "version": "3.7.6"
  }
 },
 "nbformat": 4,
 "nbformat_minor": 4
}
